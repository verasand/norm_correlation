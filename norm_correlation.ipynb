{
  "cells": [
    {
      "cell_type": "markdown",
      "id": "44299a9d",
      "metadata": {
        "id": "44299a9d"
      },
      "source": [
        "<p align=\"left\">\n",
        "  <a href=\"https://colab.research.google.com/github/YOUR_GITHUB_REPO/norm_correlation.ipynb\" target=\"_blank\">\n",
        "    <img src=\"https://colab.research.google.com/assets/colab-badge.svg\" alt=\"Open In Colab\"/>\n",
        "  </a>\n",
        "</p>\n",
        "\n",
        "# 📊 Antimicrobial and Cytotoxicity Activity: Normality, Correlation, and Visualization Analysis\n",
        "\n",
        "This notebook uses Google Colab widgets for file uploads and is designed for Colab. For best results, please open it in Google Colab."
      ]
    },
    {
      "cell_type": "markdown",
      "id": "d36f4e25",
      "metadata": {
        "id": "d36f4e25"
      },
      "source": [
        "# 1. 📁 Data Upload\n",
        "\n",
        "Upload the CSV dataset. The file should contain numeric columns for analysis. The first row must be headers."
      ]
    },
    {
      "cell_type": "code",
      "execution_count": null,
      "id": "9ca6c1fa",
      "metadata": {
        "id": "9ca6c1fa"
      },
      "outputs": [],
      "source": [
        "from google.colab import files\n",
        "import pandas as pd\n",
        "import io\n",
        "import numpy as np\n",
        "import matplotlib.pyplot as plt\n",
        "from matplotlib.colors import ListedColormap\n",
        "import seaborn as sns\n",
        "from scipy import stats\n",
        "import os\n",
        "\n",
        "# File upload\n",
        "uploaded = files.upload()\n",
        "if not uploaded:\n",
        "    raise ValueError(\"No file uploaded. Please upload a CSV file.\")\n",
        "filename = next(iter(uploaded))\n",
        "try:\n",
        "    df = pd.read_csv(io.BytesIO(uploaded[filename]))\n",
        "except Exception as e:\n",
        "    raise ValueError(f\"Error reading CSV: {e}\")\n",
        "df.head()\n",
        "# Show missing values per column\n",
        "display(df.isnull().sum())"
      ]
    },
    {
      "cell_type": "markdown",
      "source": [
        "#2. 📊 Descriptive Statistics\n",
        "Get an overview of the numeric columns in the dataset."
      ],
      "metadata": {
        "id": "5v_JyhbNato9"
      },
      "id": "5v_JyhbNato9"
    },
    {
      "cell_type": "code",
      "source": [
        "numeric_cols_desc = df.select_dtypes(include=np.number).columns\n",
        "if not numeric_cols_desc.empty:\n",
        "  display(df[numeric_cols_desc].describe())\n",
        "else:\n",
        "  print(\"No numeric columns found for descriptive statistics.\")"
      ],
      "metadata": {
        "id": "l1VralataMN4"
      },
      "id": "l1VralataMN4",
      "execution_count": null,
      "outputs": []
    },
    {
      "cell_type": "markdown",
      "source": [
        "# 2b. 📦 MIC and IC50 Boxplots\n",
        "\n",
        "Visualize the distribution of MIC and IC50 values for each bacterial species and cell lines."
      ],
      "metadata": {
        "id": "sxFOlZLnh7Uv"
      },
      "id": "sxFOlZLnh7Uv"
    },
    {
      "cell_type": "code",
      "source": [
        "import numpy as np\n",
        "import matplotlib.pyplot as plt\n",
        "\n",
        "# --- Step 1: Identify MIC and IC50 columns for each species ---\n",
        "mic_cols = [col for col in df.columns if \"MIC\" in col and \"μM\" in col]\n",
        "ic50_cols = [col for col in df.columns if \"IC50\" in col and \"μM\" in col]\n",
        "\n",
        "# Extract species names for labels\n",
        "def extract_species(col_list):\n",
        "    return [col.split(\" MIC\")[0].split(\" IC50\")[0] for col in col_list]\n",
        "\n",
        "mic_species = extract_species(mic_cols)\n",
        "ic50_species = extract_species(ic50_cols)\n",
        "\n",
        "def italicize_labels(labels):\n",
        "    return [r\"$\\it{\" + label + \"}$\" for label in labels]\n",
        "\n",
        "# --- Step 2: Prepare log-transformed data ---\n",
        "mic_data_log = [np.log10(df[col].dropna() + 1e-8) for col in mic_cols]\n",
        "ic50_data_log = [np.log10(df[col].dropna() + 1e-8) for col in ic50_cols]\n",
        "\n",
        "# --- Step 3: Plot MIC boxplot (log scale, italicized species) ---\n",
        "plt.figure(figsize=(8,5))\n",
        "plt.boxplot(mic_data_log)\n",
        "plt.xticks(range(1, len(mic_cols)+1), italicize_labels(mic_species), fontsize=12)\n",
        "plt.title(\"Distribution of log₁₀ MICs Across Bacterial Species\", fontsize=14)\n",
        "plt.ylabel(\"log₁₀ MIC (μM)\")\n",
        "plt.tight_layout()\n",
        "plt.show()\n",
        "\n",
        "# --- Step 4: Plot IC50 boxplot (log scale, plain species) ---\n",
        "plt.figure(figsize=(8,5))\n",
        "plt.boxplot(ic50_data_log)\n",
        "plt.xticks(range(1, len(ic50_cols)+1), ic50_species, fontsize=12)\n",
        "plt.title(\"Distribution of log₁₀ IC50 Values Across Cell Lines\", fontsize=14)\n",
        "plt.ylabel(\"log₁₀ IC50 (μM)\")\n",
        "plt.tight_layout()\n",
        "plt.show()"
      ],
      "metadata": {
        "id": "bktSVE7yiEoK"
      },
      "id": "bktSVE7yiEoK",
      "execution_count": null,
      "outputs": []
    },
    {
      "cell_type": "markdown",
      "id": "bf37fa64",
      "metadata": {
        "id": "bf37fa64"
      },
      "source": [
        "# 2. 🧪 Normality Testing (Shapiro-Wilk)\n",
        "\n",
        "This section performs the Shapiro-Wilk normality test on each numeric column (except ID columns). It also generates a histogram and Q-Q plot for each variable."
      ]
    },
    {
      "cell_type": "code",
      "execution_count": null,
      "id": "03008547",
      "metadata": {
        "id": "03008547"
      },
      "outputs": [],
      "source": [
        "def is_id_column(col):\n",
        "    return str(col).lower().startswith('id') or str(col).upper() == 'ID'\n",
        "\n",
        "def normality_test(df, output_dir='normality_plots'):\n",
        "    os.makedirs(output_dir, exist_ok=True)\n",
        "    results = []\n",
        "    numeric_cols = [col for col in df.select_dtypes(include=[np.number]).columns if not is_id_column(col)]\n",
        "    for col in numeric_cols:\n",
        "        data = df[col].dropna()\n",
        "        if len(data) > 2:\n",
        "            try:\n",
        "                stat, p = stats.shapiro(data)\n",
        "                results.append({'Variable': col, 'Statistic': stat, 'p-value': p})\n",
        "                # Plot\n",
        "                fig, axes = plt.subplots(1, 2, figsize=(10, 4))\n",
        "                sns.histplot(data, kde=True, ax=axes[0])\n",
        "                axes[0].set_title(f'Histogram: {col}')\n",
        "                stats.probplot(data, dist=\"norm\", plot=axes[1])\n",
        "                axes[1].set_title(f'Q-Q plot: {col}')\n",
        "                plt.tight_layout()\n",
        "                plot_path = os.path.join(output_dir, f'{col}_normality.png')\n",
        "                plt.savefig(plot_path, dpi=150)\n",
        "                plt.show()\n",
        "            except Exception as e:\n",
        "                print(f\"Error processing {col}: {e}\")\n",
        "        else:\n",
        "            print(f\"Column {col} does not have enough data for the Shapiro-Wilk test.\")\n",
        "    results_df = pd.DataFrame(results)\n",
        "    return results_df\n",
        "\n",
        "normality_results = normality_test(df)\n",
        "display(normality_results)"
      ]
    },
    {
      "cell_type": "markdown",
      "id": "855708de",
      "metadata": {
        "id": "855708de"
      },
      "source": [
        "# 3. 📈📉 Correlation Analysis (Spearman)\n",
        "\n",
        "This section computes Spearman correlations for selected columns: those containing \"PC_1\", \"PC_2\", \"PC_3\", \"MIC (μM)\", or \"IC50\" in their names."
      ]
    },
    {
      "cell_type": "code",
      "execution_count": null,
      "id": "842fc5c5",
      "metadata": {
        "id": "842fc5c5"
      },
      "outputs": [],
      "source": [
        "def select_correlation_columns(df):\n",
        "    keywords = [\"PC_1\", \"PC_2\", \"PC_3\", \"MIC (μM)\", \"IC50\", \"Hemolysis (max %)\"]\n",
        "    return [col for col in df.columns if any(k in col for k in keywords)]\n",
        "\n",
        "def spearman_correlation(df, cols):\n",
        "    corr_matrix = pd.DataFrame(index=cols, columns=cols, dtype=float)\n",
        "    pval_matrix = pd.DataFrame(index=cols, columns=cols, dtype=float)\n",
        "    for i in cols:\n",
        "        for j in cols:\n",
        "            x, y = df[i], df[j]\n",
        "            mask = x.notna() & y.notna()\n",
        "            if mask.sum() > 1:\n",
        "                rho, p = stats.spearmanr(x[mask], y[mask])\n",
        "                corr_matrix.loc[i, j] = rho\n",
        "                pval_matrix.loc[i, j] = p\n",
        "            else:\n",
        "                corr_matrix.loc[i, j] = np.nan\n",
        "                pval_matrix.loc[i, j] = np.nan\n",
        "    return corr_matrix, pval_matrix\n",
        "\n",
        "corr_cols = select_correlation_columns(df)\n",
        "if not corr_cols:\n",
        "    raise ValueError(\"No columns found for correlation analysis.\")\n",
        "corr_matrix, pval_matrix = spearman_correlation(df, corr_cols)\n",
        "display(corr_matrix)"
      ]
    },
    {
      "cell_type": "markdown",
      "id": "20d3c11e",
      "metadata": {
        "id": "20d3c11e"
      },
      "source": [
        "# 4. 🔥 Visualization: Correlation Heatmap\n",
        "\n",
        "The heatmap below shows Spearman correlations. Significant correlations are annotated with asterisks (* p<0.05, ** p<0.01, *** p<0.001). Rows/columns are sorted: \"MIC (uM)\", \"IC50\", then \"PC_1\", \"PC_2\", \"PC_3\"."
      ]
    },
    {
      "cell_type": "code",
      "execution_count": null,
      "id": "957c9fdc",
      "metadata": {
        "id": "957c9fdc"
      },
      "outputs": [],
      "source": [
        "from matplotlib.colors import ListedColormap\n",
        "\n",
        "# Define custom color palette\n",
        "custom_colors = [\n",
        "    '#d73027', '#f46d43', '#fdae61', '#fee08b', '#ffffbf',\n",
        "    '#d9ef8b', '#a6d96a', '#66bd63', '#1a9850', '#006837'\n",
        "]\n",
        "custom_cmap = ListedColormap(custom_colors)\n",
        "\n",
        "# Helper functions to identify PCs and activities\n",
        "def is_pc(col):\n",
        "    return any(pc in col for pc in [\"PC_1\", \"PC_2\", \"PC_3\"])\n",
        "\n",
        "def is_activity(col):\n",
        "    # Accept both \"MIC (uM)\" and \"MIC (μM)\" spellings\n",
        "    return (\n",
        "        (\"MIC (uM)\" in col or \"MIC (μM)\" in col)\n",
        "        or (\"IC50\" in col and not is_pc(col))\n",
        "        or (\"Hemolysis (max %)\" in col)\n",
        "    )\n",
        "\n",
        "def sort_corr_labels(labels):\n",
        "    def sort_key(label):\n",
        "        if \"MIC (uM)\" in label or \"MIC (μM)\" in label:\n",
        "            return (0, label)\n",
        "        if \"IC50\" in label or \"Hemolysis (max %)\" in label:\n",
        "            return (1, label)\n",
        "        if \"PC_1\" in label:\n",
        "            return (2, label)\n",
        "        if \"PC_2\" in label:\n",
        "            return (3, label)\n",
        "        if \"PC_3\" in label:\n",
        "            return (4, label)\n",
        "        return (5, label)\n",
        "    return sorted(labels, key=sort_key)\n",
        "\n",
        "def annotate_significance(ax, corr, pvals):\n",
        "    for i in range(corr.shape[0]):\n",
        "        for j in range(corr.shape[1]):\n",
        "            val = corr.iloc[i, j]\n",
        "            p = pvals.iloc[i, j]\n",
        "            if pd.isnull(val):\n",
        "                text = ''\n",
        "            else:\n",
        "                if p < 0.001:\n",
        "                    text = f'{val:.2f}***'\n",
        "                elif p < 0.01:\n",
        "                    text = f'{val:.2f}**'\n",
        "                elif p < 0.05:\n",
        "                    text = f'{val:.2f}*'\n",
        "                else:\n",
        "                    text = f'{val:.2f}'\n",
        "            fontcolor = 'white' if abs(val) > 0.5 else 'black'\n",
        "            ax.text(j+0.5, i+0.5, text, ha='center', va='center', color=fontcolor, fontsize=10)\n",
        "\n",
        "def plot_heatmap(corr_matrix, pval_matrix, filename='correlation_heatmap.png'):\n",
        "    # Print debug info\n",
        "    print(\"corr_matrix index (rows):\", list(corr_matrix.index))\n",
        "    print(\"corr_matrix columns:\", list(corr_matrix.columns))\n",
        "    if corr_matrix.empty or corr_matrix.isnull().all().all():\n",
        "        print(\"The correlation DataFrame is empty or all values are NaN. Please check your data filtering and input.\")\n",
        "        return\n",
        "\n",
        "    # Sort labels for grouping\n",
        "    labels = sort_corr_labels(list(corr_matrix.index))\n",
        "    corr_matrix = corr_matrix.loc[labels]\n",
        "    pval_matrix = pval_matrix.loc[labels]\n",
        "\n",
        "    plt.figure(figsize=(7, 6))\n",
        "    ax = sns.heatmap(\n",
        "        corr_matrix,\n",
        "        annot=False,\n",
        "        cmap=\"RdYlGn\",\n",
        "        center=0,\n",
        "        vmin=-1, vmax=1,\n",
        "        cbar_kws={'label': \"Spearman's Rho\", 'shrink': 0.3},\n",
        "        square=True,\n",
        "        linewidths=0.5\n",
        "    )\n",
        "    annotate_significance(ax, corr_matrix, pval_matrix)\n",
        "    plt.xticks(rotation=45, ha='right', fontsize=10)\n",
        "    plt.yticks(rotation=0, fontsize=10)\n",
        "    plt.xlabel('Principal Components', fontweight=\"bold\", fontsize=10)\n",
        "    plt.ylabel('Biological Activities', fontweight=\"bold\", fontsize=10, labelpad=40)\n",
        "\n",
        "    # --- Add vertical lines and sublabels for groupings ---\n",
        "    # Count bacteria as those with \"MIC (uM)\" or \"MIC (μM)\" in label\n",
        "    bacteria_labels = [l for l in labels if (\"MIC (uM)\" in l or \"MIC (μM)\" in l)]\n",
        "    n_bacteria = len(bacteria_labels)\n",
        "    n_cytotox = corr_matrix.shape[0] - n_bacteria  # Cytotoxicity group includes Hemolysis\n",
        "\n",
        "    x_line = -3\n",
        "\n",
        "    # \"Bacteria\" group (first n_bacteria rows)\n",
        "    if n_bacteria > 0:\n",
        "        y_bacteria_start = 0.3\n",
        "        y_bacteria_end = n_bacteria - 0.3\n",
        "        ax.plot([x_line, x_line], [y_bacteria_start, y_bacteria_end], color='black', linewidth=1, clip_on=False)\n",
        "        ax.plot([x_line-0.1, x_line+0.1], [y_bacteria_start, y_bacteria_start], color='black', linewidth=1, clip_on=False)\n",
        "        ax.plot([x_line-0.1, x_line+0.1], [y_bacteria_end, y_bacteria_end], color='black', linewidth=1, clip_on=False)\n",
        "        plt.text(x_line-0.2, (y_bacteria_start + y_bacteria_end)/2, \"Antimicrobial\", rotation=90, fontsize=10, va='center', ha='center')\n",
        "\n",
        "    # \"Cytotoxicity\" group (remaining rows, including Hemolysis)\n",
        "    if n_cytotox > 0:\n",
        "        y_cyto_start = n_bacteria + 0.3\n",
        "        y_cyto_end = n_bacteria + n_cytotox - 0.3\n",
        "        ax.plot([x_line, x_line], [y_cyto_start, y_cyto_end], color='black', linewidth=1, clip_on=False)\n",
        "        ax.plot([x_line-0.1, x_line+0.1], [y_cyto_start, y_cyto_start], color='black', linewidth=1, clip_on=False)\n",
        "        ax.plot([x_line-0.1, x_line+0.1], [y_cyto_end, y_cyto_end], color='black', linewidth=1, clip_on=False)\n",
        "        plt.text(x_line-0.2, (y_cyto_start + y_cyto_end)/2, \"Cytotoxicity\", rotation=90, fontsize=10, va='center', ha='center')\n",
        "\n",
        "    # --- Italicize only bacteria species names in y-tick labels ---\n",
        "    bacteria_species = [\"E. coli\", \"K. pneumoniae\", \"P. aeruginosa\", \"S. aureus\"]\n",
        "    yticklabels = [label.get_text() for label in ax.get_yticklabels()]\n",
        "    new_labels = []\n",
        "    for label in yticklabels:\n",
        "        for species in bacteria_species:\n",
        "            if species in label:\n",
        "                label = label.replace(species, r\"$\\it{\" + species + \"}$\")\n",
        "        new_labels.append(label)\n",
        "    ax.set_yticklabels(new_labels, fontsize=10)\n",
        "\n",
        "    plt.tight_layout()\n",
        "    plt.savefig(filename, dpi=300)\n",
        "    plt.show()\n",
        "\n",
        "# Select columns for X (PCs) and Y (activities)\n",
        "all_cols = list(corr_matrix.columns)\n",
        "pc_cols = [col for col in all_cols if is_pc(col)]\n",
        "activity_cols = [col for col in all_cols if is_activity(col)]\n",
        "\n",
        "# Only keep those that actually exist in the matrix\n",
        "activity_cols = [col for col in activity_cols if col in corr_matrix.index]\n",
        "pc_cols = [col for col in pc_cols if col in corr_matrix.columns]\n",
        "\n",
        "# Filter the matrices\n",
        "corr_filtered = corr_matrix.loc[activity_cols, pc_cols]\n",
        "pval_filtered = pval_matrix.loc[activity_cols, pc_cols]\n",
        "\n",
        "# Plot heatmap\n",
        "plot_heatmap(corr_filtered, pval_filtered)"
      ]
    },
    {
      "cell_type": "markdown",
      "id": "8758b18f",
      "metadata": {
        "id": "8758b18f"
      },
      "source": [
        "# 5. 💾 Export Results\n",
        "\n",
        "Download the normality test results, correlation matrix, and heatmap image."
      ]
    },
    {
      "cell_type": "code",
      "execution_count": null,
      "id": "8a929e2a",
      "metadata": {
        "id": "8a929e2a"
      },
      "outputs": [],
      "source": [
        "# Save and offer downloads\n",
        "normality_results.to_csv('normality_results.csv', index=False)\n",
        "corr_matrix.to_csv('spearman_correlation_matrix.csv')\n",
        "pval_matrix.to_csv('spearman_pvalues_matrix.csv')\n",
        "from google.colab import files\n",
        "files.download('normality_results.csv')\n",
        "files.download('spearman_correlation_matrix.csv')\n",
        "files.download('spearman_pvalues_matrix.csv')\n",
        "files.download('correlation_heatmap.png')"
      ]
    },
    {
      "cell_type": "markdown",
      "id": "dabfaf77",
      "metadata": {
        "id": "dabfaf77"
      },
      "source": [
        "# 6. 📖 Summary & Usage Instructions\n",
        "\n",
        "This notebook provides a complete workflow for normality testing and correlation analysis:\n",
        "\n",
        "- **Data Upload:** Upload your CSV file with numeric columns.\n",
        "- **Normality Testing:** Shapiro-Wilk test for each variable, with plots.\n",
        "- **Correlation Analysis:** Spearman correlation for selected variables (\"MIC (uM)\", \"IC50\", \"PC_1\", \"PC_2\", \"PC_3\").\n",
        "- **Visualization:** Heatmap with significance annotations.\n",
        "- **Export:** Download all results and plots.\n",
        "\n",
        "**Tip:** For best results, use Google Colab. If you encounter errors, check your file format and column names."
      ]
    }
  ],
  "metadata": {
    "language_info": {
      "name": "python"
    },
    "colab": {
      "provenance": []
    },
    "kernelspec": {
      "name": "python3",
      "display_name": "Python 3"
    }
  },
  "nbformat": 4,
  "nbformat_minor": 5
}